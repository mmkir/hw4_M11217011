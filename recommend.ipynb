{
 "cells": [
  {
   "cell_type": "markdown",
   "metadata": {},
   "source": [
    "函式庫 宣告"
   ]
  },
  {
   "cell_type": "code",
   "execution_count": 93,
   "metadata": {},
   "outputs": [],
   "source": [
    "from mlxtend.frequent_patterns import apriori, association_rules, fpgrowth\n",
    "from mlxtend.preprocessing import TransactionEncoder\n",
    "import pandas as pd\n",
    "import time"
   ]
  },
  {
   "cell_type": "markdown",
   "metadata": {},
   "source": [
    "讀取資料"
   ]
  },
  {
   "cell_type": "code",
   "execution_count": 94,
   "metadata": {},
   "outputs": [],
   "source": [
    "Data = pd.read_excel('交易資料集(2).xlsx')"
   ]
  },
  {
   "cell_type": "code",
   "execution_count": 95,
   "metadata": {},
   "outputs": [],
   "source": [
    "# 資料前處理：重新組織數據\n",
    "# data = Data.groupby('INVOICE_NO')['ITEM_NO'].apply(set).tolist()\n",
    "data = Data.groupby('INVOICE_NO')['ITEM_NO'].apply(lambda items: [str(item) for item in set(items)]).tolist()"
   ]
  },
  {
   "cell_type": "code",
   "execution_count": 96,
   "metadata": {},
   "outputs": [],
   "source": [
    "# 轉換資料為適合進行關聯分析的格式\n",
    "te = TransactionEncoder()\n",
    "te_array = te.fit(data).transform(data)\n",
    "df = pd.DataFrame(te_array, columns=te.columns_)"
   ]
  },
  {
   "cell_type": "code",
   "execution_count": 97,
   "metadata": {},
   "outputs": [],
   "source": [
    "def Association_rule(Type, support_threshold, confidence_threshold):\n",
    "    start = time.time();\n",
    "    if Type == 'Apriori':\n",
    "        # Apriori 演算法 計算\n",
    "        frequent_itemsets = apriori(df, min_support=support_threshold, use_colnames=True)\n",
    "        rules = association_rules(frequent_itemsets, metric=\"confidence\", min_threshold=confidence_threshold)\n",
    "    elif Type == 'FPgrowth':\n",
    "        # FP-Growth 演算法 計算\n",
    "        frequent_itemsets = fpgrowth(df, min_support=support_threshold, use_colnames=True)\n",
    "        rules = association_rules(frequent_itemsets, metric=\"confidence\", min_threshold=confidence_threshold)\n",
    "    end = time.time();\n",
    "\n",
    "    rules.to_excel(f'關聯性規則/{Type}_rules.xlsx', index=False)\n",
    "    print(\"執行時間：%f 秒\" % (end - start))\n",
    "    return rules,(end - start)"
   ]
  },
  {
   "cell_type": "code",
   "execution_count": 98,
   "metadata": {},
   "outputs": [],
   "source": [
    "def recommend_products(rules, antecedents):\n",
    "    # 找出所有包含前項的規則\n",
    "    relevant_rules = rules[rules['antecedents'].apply(lambda x: set(antecedents).issubset(set(x)))]\n",
    "    # 從規則中提取推薦產品 後項\n",
    "    recommended_products = set()\n",
    "    for consequents in relevant_rules['consequents']:\n",
    "        recommended_products.update(consequents)\n",
    "    # 移除輸入的產品 確保推薦列表中不包含輸入的產品\n",
    "    recommended_products.difference_update(antecedents)\n",
    "    return recommended_products"
   ]
  },
  {
   "cell_type": "markdown",
   "metadata": {},
   "source": [
    "Apriori 演算法"
   ]
  },
  {
   "cell_type": "code",
   "execution_count": 99,
   "metadata": {},
   "outputs": [
    {
     "name": "stdout",
     "output_type": "stream",
     "text": [
      "執行時間：11.466935 秒\n"
     ]
    }
   ],
   "source": [
    "rules_apriori,t = Association_rule('Apriori', 0.001, 0.01)"
   ]
  },
  {
   "cell_type": "code",
   "execution_count": 100,
   "metadata": {},
   "outputs": [
    {
     "name": "stdout",
     "output_type": "stream",
     "text": [
      "Apriori 推薦的產品: {'2N7002BK,215', 'BAW56,215', 'BAV70,215', 'PDZ15B,115'}\n"
     ]
    }
   ],
   "source": [
    "input_product = ['BAS316,115', 'BAV99,215']\n",
    "recommendations_apriori = recommend_products(rules_apriori, input_product)\n",
    "print(\"Apriori 推薦的產品:\", recommendations_apriori)"
   ]
  },
  {
   "cell_type": "markdown",
   "metadata": {},
   "source": [
    "FP-Growth 演算法"
   ]
  },
  {
   "cell_type": "code",
   "execution_count": 101,
   "metadata": {},
   "outputs": [
    {
     "name": "stdout",
     "output_type": "stream",
     "text": [
      "執行時間：0.736440 秒\n"
     ]
    }
   ],
   "source": [
    "rules_fpgrowth,t = Association_rule('FPgrowth', 0.001, 0.01)"
   ]
  },
  {
   "cell_type": "code",
   "execution_count": 102,
   "metadata": {},
   "outputs": [
    {
     "name": "stdout",
     "output_type": "stream",
     "text": [
      "FP-Growth 推薦的產品: {'2N7002BK,215', 'BAW56,215', 'BAV70,215', 'PDZ15B,115'}\n"
     ]
    }
   ],
   "source": [
    "input_product = ['BAS316,115', 'BAV99,215']\n",
    "recommendations_fpgrowth = recommend_products(rules_fpgrowth, input_product)\n",
    "print(\"FP-Growth 推薦的產品:\", recommendations_fpgrowth)"
   ]
  }
 ],
 "metadata": {
  "kernelspec": {
   "display_name": "Python 3",
   "language": "python",
   "name": "python3"
  },
  "language_info": {
   "codemirror_mode": {
    "name": "ipython",
    "version": 3
   },
   "file_extension": ".py",
   "mimetype": "text/x-python",
   "name": "python",
   "nbconvert_exporter": "python",
   "pygments_lexer": "ipython3",
   "version": "3.11.4"
  }
 },
 "nbformat": 4,
 "nbformat_minor": 2
}
