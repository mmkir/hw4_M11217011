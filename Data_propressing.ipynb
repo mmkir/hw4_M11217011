{
 "cells": [
  {
   "cell_type": "markdown",
   "metadata": {},
   "source": [
    "函式庫 宣告"
   ]
  },
  {
   "cell_type": "code",
   "execution_count": 1,
   "metadata": {},
   "outputs": [],
   "source": [
    "import pandas as pd"
   ]
  },
  {
   "cell_type": "markdown",
   "metadata": {},
   "source": [
    "讀取 原始資料"
   ]
  },
  {
   "cell_type": "code",
   "execution_count": 2,
   "metadata": {},
   "outputs": [],
   "source": [
    "raw_data = pd.read_excel('交易資料集(1).xlsx')"
   ]
  },
  {
   "cell_type": "code",
   "execution_count": 3,
   "metadata": {},
   "outputs": [
    {
     "name": "stdout",
     "output_type": "stream",
     "text": [
      "Index(['INVOICE_NO', 'CUST_ID', 'ITEM_ID', 'ITEM_NO', 'PRODUCT_TYPE',\n",
      "       'TRX_DATE', 'QUANTITY'],\n",
      "      dtype='object')\n"
     ]
    }
   ],
   "source": [
    "# INVOICE_NO    ：相同時 代表同一筆交易紀錄\n",
    "# CUST_ID       ：顧客識別碼\n",
    "# ITEM_ID       ：交易品項識別碼\n",
    "# ITEM_NO       ：交易品項號碼\n",
    "# PRODUCT_TYPE  ：產品類別\n",
    "# TRX_DATE      ：交易日期\n",
    "# QUANTITY      ：數量\n",
    "print(raw_data.keys())"
   ]
  },
  {
   "cell_type": "markdown",
   "metadata": {},
   "source": [
    "原始資料大小"
   ]
  },
  {
   "cell_type": "code",
   "execution_count": 4,
   "metadata": {},
   "outputs": [
    {
     "data": {
      "text/plain": [
       "(157396, 7)"
      ]
     },
     "execution_count": 4,
     "metadata": {},
     "output_type": "execute_result"
    }
   ],
   "source": [
    "raw_data.shape"
   ]
  },
  {
   "cell_type": "code",
   "execution_count": 5,
   "metadata": {},
   "outputs": [],
   "source": [
    "data = raw_data[~(raw_data['QUANTITY']<=0)]"
   ]
  },
  {
   "cell_type": "markdown",
   "metadata": {},
   "source": [
    "資料移除(QUANTITY <= 0)後大小"
   ]
  },
  {
   "cell_type": "code",
   "execution_count": 6,
   "metadata": {},
   "outputs": [
    {
     "data": {
      "text/plain": [
       "(128837, 7)"
      ]
     },
     "execution_count": 6,
     "metadata": {},
     "output_type": "execute_result"
    }
   ],
   "source": [
    "data.shape"
   ]
  },
  {
   "cell_type": "code",
   "execution_count": 7,
   "metadata": {},
   "outputs": [],
   "source": [
    "result_df = pd.DataFrame(data)\n",
    "result_df.to_excel(\"交易資料集(2).xlsx\", index=False)"
   ]
  }
 ],
 "metadata": {
  "kernelspec": {
   "display_name": "Python 3",
   "language": "python",
   "name": "python3"
  },
  "language_info": {
   "codemirror_mode": {
    "name": "ipython",
    "version": 3
   },
   "file_extension": ".py",
   "mimetype": "text/x-python",
   "name": "python",
   "nbconvert_exporter": "python",
   "pygments_lexer": "ipython3",
   "version": "3.11.4"
  }
 },
 "nbformat": 4,
 "nbformat_minor": 2
}
